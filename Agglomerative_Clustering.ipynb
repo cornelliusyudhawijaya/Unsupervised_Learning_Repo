{
 "cells": [
  {
   "cell_type": "markdown",
   "metadata": {},
   "source": [
    "# Short Explanation of Agglomerative Clustering\n",
    "\n",
    "In this notebook, I would try to explain the Agglomerative Clustering process."
   ]
  },
  {
   "cell_type": "code",
   "execution_count": 6,
   "metadata": {
    "ExecuteTime": {
     "end_time": "2019-12-24T15:00:06.882994Z",
     "start_time": "2019-12-24T15:00:06.874993Z"
    }
   },
   "outputs": [
    {
     "data": {
      "text/html": [
       "<div>\n",
       "<style scoped>\n",
       "    .dataframe tbody tr th:only-of-type {\n",
       "        vertical-align: middle;\n",
       "    }\n",
       "\n",
       "    .dataframe tbody tr th {\n",
       "        vertical-align: top;\n",
       "    }\n",
       "\n",
       "    .dataframe thead th {\n",
       "        text-align: right;\n",
       "    }\n",
       "</style>\n",
       "<table border=\"1\" class=\"dataframe\">\n",
       "  <thead>\n",
       "    <tr style=\"text-align: right;\">\n",
       "      <th></th>\n",
       "      <th>Age</th>\n",
       "      <th>Expense($)</th>\n",
       "      <th>Distance(KM)</th>\n",
       "    </tr>\n",
       "  </thead>\n",
       "  <tbody>\n",
       "    <tr>\n",
       "      <th>Anne</th>\n",
       "      <td>30</td>\n",
       "      <td>100</td>\n",
       "      <td>5</td>\n",
       "    </tr>\n",
       "    <tr>\n",
       "      <th>Ben</th>\n",
       "      <td>18</td>\n",
       "      <td>200</td>\n",
       "      <td>2</td>\n",
       "    </tr>\n",
       "    <tr>\n",
       "      <th>Chad</th>\n",
       "      <td>35</td>\n",
       "      <td>150</td>\n",
       "      <td>7</td>\n",
       "    </tr>\n",
       "    <tr>\n",
       "      <th>Dave</th>\n",
       "      <td>48</td>\n",
       "      <td>300</td>\n",
       "      <td>4</td>\n",
       "    </tr>\n",
       "    <tr>\n",
       "      <th>Eric</th>\n",
       "      <td>50</td>\n",
       "      <td>200</td>\n",
       "      <td>6</td>\n",
       "    </tr>\n",
       "  </tbody>\n",
       "</table>\n",
       "</div>"
      ],
      "text/plain": [
       "      Age  Expense($)  Distance(KM)\n",
       "Anne   30         100             5\n",
       "Ben    18         200             2\n",
       "Chad   35         150             7\n",
       "Dave   48         300             4\n",
       "Eric   50         200             6"
      ]
     },
     "execution_count": 6,
     "metadata": {},
     "output_type": "execute_result"
    }
   ],
   "source": [
    "import pandas as pd\n",
    "import matplotlib.pyplot as plt\n",
    "# creating the dummy data\n",
    "dummy = pd.DataFrame([[30,100,5],\n",
    "              [18, 200, 2],\n",
    "              [35, 150, 7],\n",
    "             [48, 300, 4],\n",
    "             [50, 200, 6]], index = ['Anne', 'Ben', 'Chad', 'Dave', 'Eric'], columns =['Age', 'Expense($)', 'Distance(KM)'])\n",
    "\n",
    "dummy"
   ]
  },
  {
   "cell_type": "markdown",
   "metadata": {},
   "source": [
    "Agglomerative clustering is based on the distance measurement. In my case, I would use the simplest one which is Euclidean distance. The equation is described below.\n",
    "\n",
    "$d_{x,y} = \\sqrt{\\sum_{i=1}^{N}(x_i - y_i)^2}$\n",
    "\n",
    "If we take an example of the distance between Anne and Ben, it could be written as:\n",
    "\n",
    "$d_{(Anne,Ben)} =\\sqrt{(Anne_{age} - Ben_{age})^2 + (Anne_{Expense} - Ben_{Expense})^2 + (Anne_{Distance} - Ben_{Distance})^2} $\n",
    "\n",
    "$d_{(Anne,Ben)} = \\sqrt{(30-18)^2 + (100-200)^2 + (5-2)^2}$\n",
    "\n",
    "$d_{(Anne,Ben)} = \\sqrt{(12)^2 + (-100)^2 + (3)^2}$\n",
    "\n",
    "$d_{(Anne,Ben)} = \\sqrt{144 + 10000 + 9}$\n",
    "\n",
    "$d_{(Anne,Ben)} = \\sqrt{10153}$\n",
    "\n",
    "$d_{(Anne,Ben)} = 100.76$\n",
    "\n",
    "Taking advantage of the scipy module, we could easily create distance function for our data"
   ]
  },
  {
   "cell_type": "code",
   "execution_count": 7,
   "metadata": {
    "ExecuteTime": {
     "end_time": "2019-12-24T15:00:07.647927Z",
     "start_time": "2019-12-24T15:00:07.637984Z"
    }
   },
   "outputs": [
    {
     "data": {
      "text/html": [
       "<div>\n",
       "<style scoped>\n",
       "    .dataframe tbody tr th:only-of-type {\n",
       "        vertical-align: middle;\n",
       "    }\n",
       "\n",
       "    .dataframe tbody tr th {\n",
       "        vertical-align: top;\n",
       "    }\n",
       "\n",
       "    .dataframe thead th {\n",
       "        text-align: right;\n",
       "    }\n",
       "</style>\n",
       "<table border=\"1\" class=\"dataframe\">\n",
       "  <thead>\n",
       "    <tr style=\"text-align: right;\">\n",
       "      <th></th>\n",
       "      <th>Anne</th>\n",
       "      <th>Ben</th>\n",
       "      <th>Chad</th>\n",
       "      <th>Dave</th>\n",
       "      <th>Eric</th>\n",
       "    </tr>\n",
       "  </thead>\n",
       "  <tbody>\n",
       "    <tr>\n",
       "      <th>Anne</th>\n",
       "      <td>0.00</td>\n",
       "      <td>100.76</td>\n",
       "      <td>50.29</td>\n",
       "      <td>200.81</td>\n",
       "      <td>101.99</td>\n",
       "    </tr>\n",
       "    <tr>\n",
       "      <th>Ben</th>\n",
       "      <td>100.76</td>\n",
       "      <td>0.00</td>\n",
       "      <td>53.05</td>\n",
       "      <td>104.42</td>\n",
       "      <td>32.25</td>\n",
       "    </tr>\n",
       "    <tr>\n",
       "      <th>Chad</th>\n",
       "      <td>50.29</td>\n",
       "      <td>53.05</td>\n",
       "      <td>0.00</td>\n",
       "      <td>150.59</td>\n",
       "      <td>52.21</td>\n",
       "    </tr>\n",
       "    <tr>\n",
       "      <th>Dave</th>\n",
       "      <td>200.81</td>\n",
       "      <td>104.42</td>\n",
       "      <td>150.59</td>\n",
       "      <td>0.00</td>\n",
       "      <td>100.04</td>\n",
       "    </tr>\n",
       "    <tr>\n",
       "      <th>Eric</th>\n",
       "      <td>101.99</td>\n",
       "      <td>32.25</td>\n",
       "      <td>52.21</td>\n",
       "      <td>100.04</td>\n",
       "      <td>0.00</td>\n",
       "    </tr>\n",
       "  </tbody>\n",
       "</table>\n",
       "</div>"
      ],
      "text/plain": [
       "        Anne     Ben    Chad    Dave    Eric\n",
       "Anne    0.00  100.76   50.29  200.81  101.99\n",
       "Ben   100.76    0.00   53.05  104.42   32.25\n",
       "Chad   50.29   53.05    0.00  150.59   52.21\n",
       "Dave  200.81  104.42  150.59    0.00  100.04\n",
       "Eric  101.99   32.25   52.21  100.04    0.00"
      ]
     },
     "execution_count": 7,
     "metadata": {},
     "output_type": "execute_result"
    }
   ],
   "source": [
    "import numpy as np\n",
    "from scipy.spatial import distance_matrix\n",
    "#distance_matrix from scipy.spatial would calculate the distance between data point based on euclidean distance,\n",
    "#and I round it to 2 decimal\n",
    "\n",
    "dis = pd.DataFrame(np.round(distance_matrix(dummy.values, dummy.values), 2), index = dummy.index, columns = dummy.index)\n",
    "dis"
   ]
  },
  {
   "cell_type": "markdown",
   "metadata": {},
   "source": [
    "By using the Single linkage criterion, we would implement the following equation for the merging event\n",
    "\n",
    "$D(X,Y) = \\underset{x \\in X, y \\in Y}{\\min} d_{x,y}$\n",
    "\n",
    "$D(Anne,(Ben,Eric)) = \\min(Anne, (Ben,Eric))$\n",
    "\n",
    "$D(Anne,(Ben,Eric)) = \\min(dist(Anne,Ben), dist(Anne,Eric))$\n",
    "\n",
    "$D(Anne,(Ben,Eric)) = \\min((100.76, 101.99))$\n",
    "\n",
    "$D(Anne,(Ben,Eric)) = 100.76$"
   ]
  },
  {
   "cell_type": "markdown",
   "metadata": {},
   "source": [
    "Next, by using the dendrogram we could visualize the merging event"
   ]
  },
  {
   "cell_type": "code",
   "execution_count": 9,
   "metadata": {
    "ExecuteTime": {
     "end_time": "2019-12-24T15:00:59.916511Z",
     "start_time": "2019-12-24T15:00:59.802796Z"
    }
   },
   "outputs": [
    {
     "data": {
      "text/plain": [
       "Text(0.5, 1.0, 'Dendrogram of the Dummy Data')"
      ]
     },
     "execution_count": 9,
     "metadata": {},
     "output_type": "execute_result"
    },
    {
     "data": {
      "image/png": "[encoded data removed]",
      "text/plain": [
       "<Figure size 432x288 with 1 Axes>"
      ]
     },
     "metadata": {
      "needs_background": "light"
     },
     "output_type": "display_data"
    }
   ],
   "source": [
    "from scipy.cluster.hierarchy import linkage, dendrogram\n",
    "from sklearn.cluster import AgglomerativeClustering\n",
    "\n",
    "den = dendrogram(linkage(dummy, method='single'), labels = dummy.index)\n",
    "plt.ylabel('Euclidean Distance', fontsize = 14)\n",
    "plt.title('Dendrogram of the Dummy Data')"
   ]
  },
  {
   "cell_type": "markdown",
   "metadata": {},
   "source": [
    "In case you want to visualize it for each merging event, I provide how to do it in the code below. I also try to find the cut-off point by eye-rolling the dendrogram."
   ]
  },
  {
   "cell_type": "code",
   "execution_count": 10,
   "metadata": {
    "ExecuteTime": {
     "end_time": "2019-12-24T15:02:39.096249Z",
     "start_time": "2019-12-24T15:02:38.984542Z"
    }
   },
   "outputs": [
    {
     "data": {
      "image/png": "[encoded data removed]",
      "text/plain": [
       "<Figure size 432x432 with 1 Axes>"
      ]
     },
     "metadata": {
      "needs_background": "light"
     },
     "output_type": "display_data"
    }
   ],
   "source": [
    "from scipy import array\n",
    "def plot_tree(P, pos=None):\n",
    "    plt.figure(figsize = (6,6))\n",
    "    plt.clf()\n",
    "    \n",
    "    icoord = array(P['icoord'])\n",
    "    dcoord = array(P['dcoord'])\n",
    "    color_list = array(P['color_list'])\n",
    "    xmin, xmax = icoord.min(), icoord.max()\n",
    "    ymin, ymax = dcoord.min(), dcoord.max()\n",
    "    if pos:\n",
    "        icoord = icoord[pos]\n",
    "        dcoord = dcoord[pos]\n",
    "        color_list = color_list[pos]\n",
    "    for xs, ys, color in zip(icoord, dcoord, color_list):\n",
    "        plt.plot(xs, ys, color)\n",
    "    plt.xlim(xmin-10, xmax + 0.1*abs(xmax))\n",
    "    plt.ylim(ymin, ymax + 0.1*abs(ymax))\n",
    "    plt.xticks([5 +(10*i) for i in range(len(P['icoord'])+1)], P['ivl'])\n",
    "    plt.ylabel('Euclidean Distance', fontsize = 14)\n",
    "    plt.title('Dendrogram of the Dummy Data')\n",
    "    #change the cut-off point here\n",
    "    plt.axhline(y = 51, ls = '--')\n",
    "    plt.annotate('Cut-off point', (10,52), xytext=(12,60),\n",
    "                 arrowprops = dict(facecolor = 'brown'), fontsize = 14 , color = 'red')\n",
    "    plt.show()\n",
    "    \n",
    "#change the range value to get different merging event\n",
    "plot_tree(den, pos = range(4))\n"
   ]
  },
  {
   "cell_type": "markdown",
   "metadata": {},
   "source": [
    "We could now use the Agglomerative Clustering to cluster our dummy data. In my case, I would try to grouping the data by 3 cluster."
   ]
  },
  {
   "cell_type": "code",
   "execution_count": 11,
   "metadata": {
    "ExecuteTime": {
     "end_time": "2019-12-24T15:03:57.170692Z",
     "start_time": "2019-12-24T15:03:57.160751Z"
    }
   },
   "outputs": [
    {
     "data": {
      "text/html": [
       "<div>\n",
       "<style scoped>\n",
       "    .dataframe tbody tr th:only-of-type {\n",
       "        vertical-align: middle;\n",
       "    }\n",
       "\n",
       "    .dataframe tbody tr th {\n",
       "        vertical-align: top;\n",
       "    }\n",
       "\n",
       "    .dataframe thead th {\n",
       "        text-align: right;\n",
       "    }\n",
       "</style>\n",
       "<table border=\"1\" class=\"dataframe\">\n",
       "  <thead>\n",
       "    <tr style=\"text-align: right;\">\n",
       "      <th></th>\n",
       "      <th>Age</th>\n",
       "      <th>Expense($)</th>\n",
       "      <th>Distance(KM)</th>\n",
       "      <th>Aglo-label</th>\n",
       "    </tr>\n",
       "  </thead>\n",
       "  <tbody>\n",
       "    <tr>\n",
       "      <th>Anne</th>\n",
       "      <td>30</td>\n",
       "      <td>100</td>\n",
       "      <td>5</td>\n",
       "      <td>0</td>\n",
       "    </tr>\n",
       "    <tr>\n",
       "      <th>Ben</th>\n",
       "      <td>18</td>\n",
       "      <td>200</td>\n",
       "      <td>2</td>\n",
       "      <td>2</td>\n",
       "    </tr>\n",
       "    <tr>\n",
       "      <th>Chad</th>\n",
       "      <td>35</td>\n",
       "      <td>150</td>\n",
       "      <td>7</td>\n",
       "      <td>0</td>\n",
       "    </tr>\n",
       "    <tr>\n",
       "      <th>Dave</th>\n",
       "      <td>48</td>\n",
       "      <td>300</td>\n",
       "      <td>4</td>\n",
       "      <td>1</td>\n",
       "    </tr>\n",
       "    <tr>\n",
       "      <th>Eric</th>\n",
       "      <td>50</td>\n",
       "      <td>200</td>\n",
       "      <td>6</td>\n",
       "      <td>2</td>\n",
       "    </tr>\n",
       "  </tbody>\n",
       "</table>\n",
       "</div>"
      ],
      "text/plain": [
       "      Age  Expense($)  Distance(KM)  Aglo-label\n",
       "Anne   30         100             5           0\n",
       "Ben    18         200             2           2\n",
       "Chad   35         150             7           0\n",
       "Dave   48         300             4           1\n",
       "Eric   50         200             6           2"
      ]
     },
     "execution_count": 11,
     "metadata": {},
     "output_type": "execute_result"
    }
   ],
   "source": [
    "aglo = AgglomerativeClustering(n_clusters=3, affinity='euclidean', linkage='single')\n",
    "aglo.fit_predict(dummy)\n",
    "dummy['Aglo-label'] = aglo.fit_predict(dummy)\n",
    "dummy"
   ]
  },
  {
   "cell_type": "markdown",
   "metadata": {},
   "source": [
    "That's it, we now have obtain our clustered data and ready to be analyzed"
   ]
  },
  {
   "cell_type": "code",
   "execution_count": null,
   "metadata": {},
   "outputs": [],
   "source": []
  }
 ],
 "metadata": {
  "hide_input": false,
  "kernelspec": {
   "display_name": "Python 3",
   "language": "python",
   "name": "python3"
  },
  "language_info": {
   "codemirror_mode": {
    "name": "ipython",
    "version": 3
   },
   "file_extension": ".py",
   "mimetype": "text/x-python",
   "name": "python",
   "nbconvert_exporter": "python",
   "pygments_lexer": "ipython3",
   "version": "3.8.8"
  },
  "varInspector": {
   "cols": {
    "lenName": 16,
    "lenType": 16,
    "lenVar": 40
   },
   "kernels_config": {
    "python": {
     "delete_cmd_postfix": "",
     "delete_cmd_prefix": "del ",
     "library": "var_list.py",
     "varRefreshCmd": "print(var_dic_list())"
    },
    "r": {
     "delete_cmd_postfix": ") ",
     "delete_cmd_prefix": "rm(",
     "library": "var_list.r",
     "varRefreshCmd": "cat(var_dic_list()) "
    }
   },
   "types_to_exclude": [
    "module",
    "function",
    "builtin_function_or_method",
    "instance",
    "_Feature"
   ],
   "window_display": false
  }
 },
 "nbformat": 4,
 "nbformat_minor": 2
}
